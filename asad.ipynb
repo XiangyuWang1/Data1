{
 "cells": [
  {
   "cell_type": "code",
   "execution_count": 1,
   "id": "2b195543",
   "metadata": {},
   "outputs": [
    {
     "name": "stdout",
     "output_type": "stream",
     "text": [
      "123\n"
     ]
    }
   ],
   "source": [
    "print(\"123\")"
   ]
  },
  {
   "cell_type": "code",
   "execution_count": null,
   "id": "8afc1af8",
   "metadata": {},
   "outputs": [],
   "source": [
    "x=[1,4,2,14,35]\n",
    "x.count(16)"
   ]
  },
  {
   "cell_type": "markdown",
   "id": "d3b32426",
   "metadata": {},
   "source": [
    "My_title"
   ]
  },
  {
   "cell_type": "code",
   "execution_count": null,
   "id": "4c817c33",
   "metadata": {},
   "outputs": [],
   "source": []
  },
  {
   "cell_type": "code",
   "execution_count": null,
   "id": "ba67c169",
   "metadata": {},
   "outputs": [],
   "source": []
  },
  {
   "cell_type": "code",
   "execution_count": null,
   "id": "a04f987e",
   "metadata": {},
   "outputs": [],
   "source": []
  }
 ],
 "metadata": {
  "kernelspec": {
   "display_name": "Python",
   "language": "python",
   "name": "conda-env-python-py"
  },
  "language_info": {
   "codemirror_mode": {
    "name": "ipython",
    "version": 3
   },
   "file_extension": ".py",
   "mimetype": "text/x-python",
   "name": "python",
   "nbconvert_exporter": "python",
   "pygments_lexer": "ipython3",
   "version": "3.6.13"
  }
 },
 "nbformat": 4,
 "nbformat_minor": 5
}
